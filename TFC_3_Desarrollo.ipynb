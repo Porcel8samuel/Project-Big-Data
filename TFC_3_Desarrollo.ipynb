{
  "nbformat": 4,
  "nbformat_minor": 0,
  "metadata": {
    "colab": {
      "provenance": [],
      "gpuType": "T4"
    },
    "kernelspec": {
      "name": "python3",
      "display_name": "Python 3"
    },
    "language_info": {
      "name": "python"
    },
    "accelerator": "GPU"
  },
  "cells": [
    {
      "cell_type": "markdown",
      "source": [
        "###Instalación Spark, creación de sesión y unidad personal de Google Drive"
      ],
      "metadata": {
        "id": "C2pXqHOII47b"
      }
    },
    {
      "cell_type": "code",
      "source": [
        "from google.colab import drive\n",
        "drive.mount('/content/drive')"
      ],
      "metadata": {
        "id": "yJzlyFtGJAuM",
        "colab": {
          "base_uri": "https://localhost:8080/"
        },
        "outputId": "30d07615-dbc9-4b4b-d95a-516603675aa9"
      },
      "execution_count": null,
      "outputs": [
        {
          "output_type": "stream",
          "name": "stdout",
          "text": [
            "Mounted at /content/drive\n"
          ]
        }
      ]
    },
    {
      "cell_type": "code",
      "source": [
        "!ls"
      ],
      "metadata": {
        "colab": {
          "base_uri": "https://localhost:8080/"
        },
        "id": "chCRL25rJDi_",
        "outputId": "00cacee4-3398-4eb8-984c-f9eb54e1d8c5"
      },
      "execution_count": null,
      "outputs": [
        {
          "output_type": "stream",
          "name": "stdout",
          "text": [
            "drive  sample_data\n"
          ]
        }
      ]
    },
    {
      "cell_type": "code",
      "source": [
        "!apt-get install openjdk-8-jdk-headless -qq > /dev/null"
      ],
      "metadata": {
        "id": "2gKVtmG2JFzW"
      },
      "execution_count": null,
      "outputs": []
    },
    {
      "cell_type": "code",
      "source": [
        "!wget https://downloads.apache.org/spark/spark-3.5.3/spark-3.5.3-bin-hadoop3.tgz"
      ],
      "metadata": {
        "id": "IYNudI_zT0pg"
      },
      "execution_count": null,
      "outputs": []
    },
    {
      "cell_type": "code",
      "source": [
        "!wget -q http://apache.mirrors.pair.com/spark/spark-3.5.3/spark-3.5.3-bin-hadoop3.tgz"
      ],
      "metadata": {
        "id": "QLZF8yhVJGVA"
      },
      "execution_count": null,
      "outputs": []
    },
    {
      "cell_type": "code",
      "source": [
        "!ls"
      ],
      "metadata": {
        "colab": {
          "base_uri": "https://localhost:8080/"
        },
        "id": "gTiREYDJJHz4",
        "outputId": "392e0278-dbb4-42bf-bf60-6d2de82f1fbe"
      },
      "execution_count": null,
      "outputs": [
        {
          "output_type": "stream",
          "name": "stdout",
          "text": [
            "drive  sample_data  spark-3.5.3-bin-hadoop3.tgz\n"
          ]
        }
      ]
    },
    {
      "cell_type": "code",
      "source": [
        "!tar xf spark-3.5.3-bin-hadoop3.tgz"
      ],
      "metadata": {
        "id": "tkXfRMSCJXnY"
      },
      "execution_count": null,
      "outputs": []
    },
    {
      "cell_type": "code",
      "source": [
        "!pip install -q findspark\n",
        "!pip install matplotlib"
      ],
      "metadata": {
        "id": "d_7tTU18JZn0",
        "colab": {
          "base_uri": "https://localhost:8080/"
        },
        "outputId": "385290b3-a1e2-4e54-f4fe-f21eeb8e4159",
        "collapsed": true
      },
      "execution_count": null,
      "outputs": [
        {
          "output_type": "stream",
          "name": "stdout",
          "text": [
            "Requirement already satisfied: matplotlib in /usr/local/lib/python3.10/dist-packages (3.8.0)\n",
            "Requirement already satisfied: contourpy>=1.0.1 in /usr/local/lib/python3.10/dist-packages (from matplotlib) (1.3.0)\n",
            "Requirement already satisfied: cycler>=0.10 in /usr/local/lib/python3.10/dist-packages (from matplotlib) (0.12.1)\n",
            "Requirement already satisfied: fonttools>=4.22.0 in /usr/local/lib/python3.10/dist-packages (from matplotlib) (4.54.1)\n",
            "Requirement already satisfied: kiwisolver>=1.0.1 in /usr/local/lib/python3.10/dist-packages (from matplotlib) (1.4.7)\n",
            "Requirement already satisfied: numpy<2,>=1.21 in /usr/local/lib/python3.10/dist-packages (from matplotlib) (1.26.4)\n",
            "Requirement already satisfied: packaging>=20.0 in /usr/local/lib/python3.10/dist-packages (from matplotlib) (24.1)\n",
            "Requirement already satisfied: pillow>=6.2.0 in /usr/local/lib/python3.10/dist-packages (from matplotlib) (10.4.0)\n",
            "Requirement already satisfied: pyparsing>=2.3.1 in /usr/local/lib/python3.10/dist-packages (from matplotlib) (3.2.0)\n",
            "Requirement already satisfied: python-dateutil>=2.7 in /usr/local/lib/python3.10/dist-packages (from matplotlib) (2.8.2)\n",
            "Requirement already satisfied: six>=1.5 in /usr/local/lib/python3.10/dist-packages (from python-dateutil>=2.7->matplotlib) (1.16.0)\n"
          ]
        }
      ]
    },
    {
      "cell_type": "code",
      "source": [
        "import os\n",
        "os.environ[\"JAVA_HOME\"] = \"/usr/lib/jvm/java-8-openjdk-amd64\"\n",
        "os.environ[\"SPARK_HOME\"] = \"/content/spark-3.5.3-bin-hadoop3\"\n",
        "import findspark\n",
        "findspark.init()\n",
        "import numpy as np\n",
        "import matplotlib.pyplot as plt"
      ],
      "metadata": {
        "id": "wcx470EQJb9h"
      },
      "execution_count": null,
      "outputs": []
    },
    {
      "cell_type": "code",
      "source": [
        "findspark.find()"
      ],
      "metadata": {
        "colab": {
          "base_uri": "https://localhost:8080/",
          "height": 35
        },
        "id": "AvSPLzPBJeoi",
        "outputId": "ea5bd549-d114-40c1-d71d-6b781eea49dd"
      },
      "execution_count": null,
      "outputs": [
        {
          "output_type": "execute_result",
          "data": {
            "text/plain": [
              "'/content/spark-3.5.3-bin-hadoop3'"
            ],
            "application/vnd.google.colaboratory.intrinsic+json": {
              "type": "string"
            }
          },
          "metadata": {},
          "execution_count": 10
        }
      ]
    },
    {
      "cell_type": "code",
      "source": [
        "from scipy import stats\n",
        "from pyspark.sql import SparkSession\n",
        "from pyspark.sql import functions as F\n",
        "\n",
        "spark = SparkSession.builder\\\n",
        "        .master(\"local\")\\\n",
        "        .appName(\"Pyspark_SQL\")\\\n",
        "        .config('spark.ui.port', '4050')\\\n",
        "        .getOrCreate()"
      ],
      "metadata": {
        "id": "AIwQOdgaJiWC"
      },
      "execution_count": null,
      "outputs": []
    },
    {
      "cell_type": "code",
      "source": [
        "spark"
      ],
      "metadata": {
        "colab": {
          "base_uri": "https://localhost:8080/",
          "height": 219
        },
        "id": "LZDWHPwbJkbM",
        "outputId": "16f49508-d095-44c4-e684-77552d73bac1"
      },
      "execution_count": null,
      "outputs": [
        {
          "output_type": "execute_result",
          "data": {
            "text/plain": [
              "<pyspark.sql.session.SparkSession at 0x7d36186da440>"
            ],
            "text/html": [
              "\n",
              "            <div>\n",
              "                <p><b>SparkSession - in-memory</b></p>\n",
              "                \n",
              "        <div>\n",
              "            <p><b>SparkContext</b></p>\n",
              "\n",
              "            <p><a href=\"http://7904bae4f973:4050\">Spark UI</a></p>\n",
              "\n",
              "            <dl>\n",
              "              <dt>Version</dt>\n",
              "                <dd><code>v3.5.3</code></dd>\n",
              "              <dt>Master</dt>\n",
              "                <dd><code>local</code></dd>\n",
              "              <dt>AppName</dt>\n",
              "                <dd><code>Pyspark_SQL</code></dd>\n",
              "            </dl>\n",
              "        </div>\n",
              "        \n",
              "            </div>\n",
              "        "
            ]
          },
          "metadata": {},
          "execution_count": 12
        }
      ]
    },
    {
      "cell_type": "markdown",
      "source": [
        "DESARROLLO, ejercicio 3:\n",
        "\n",
        "\n",
        "Cargar el conjunto de datos en un dataframe"
      ],
      "metadata": {
        "id": "NK5HNmMGJpIc"
      }
    },
    {
      "cell_type": "code",
      "source": [
        "data_path = '/content/drive/MyDrive/TokioSchool/data_curso/'\n",
        "\n",
        "df = spark.read.options(header=True, inferSchema=True).csv(data_path + 'Air_Traffic_Passenger_Statistics.csv')"
      ],
      "metadata": {
        "id": "v_NqHRJvJrua"
      },
      "execution_count": null,
      "outputs": []
    },
    {
      "cell_type": "markdown",
      "source": [
        "¿Cuántas compañías diferentes aparecen en el fichero?"
      ],
      "metadata": {
        "id": "PUY-5Mqljdea"
      }
    },
    {
      "cell_type": "code",
      "source": [
        "df.select('Operating Airline').distinct().count()"
      ],
      "metadata": {
        "colab": {
          "base_uri": "https://localhost:8080/"
        },
        "id": "YDMKtxTNXaaR",
        "outputId": "5c10659b-44a6-48e7-9c57-07efb7063189"
      },
      "execution_count": null,
      "outputs": [
        {
          "output_type": "execute_result",
          "data": {
            "text/plain": [
              "77"
            ]
          },
          "metadata": {},
          "execution_count": 17
        }
      ]
    },
    {
      "cell_type": "markdown",
      "source": [
        "¿Cuántos pasajeros tienen de media los vuelos de cada compañía?"
      ],
      "metadata": {
        "id": "UBFYvuWejhBQ"
      }
    },
    {
      "cell_type": "code",
      "source": [
        "df_compañia = df.groupBy('Operating Airline').agg (F.mean('Passenger Count').alias('mean_passenger_count'))\n",
        "df_compañia.show()"
      ],
      "metadata": {
        "colab": {
          "base_uri": "https://localhost:8080/"
        },
        "id": "nalJC3On0oqB",
        "outputId": "d50cd9ab-b112-43c5-bea0-e6e1cb3a325c"
      },
      "execution_count": null,
      "outputs": [
        {
          "output_type": "stream",
          "name": "stdout",
          "text": [
            "+--------------------+--------------------+\n",
            "|   Operating Airline|mean_passenger_count|\n",
            "+--------------------+--------------------+\n",
            "|          Icelandair|              2799.7|\n",
            "|         Ameriflight|                 5.0|\n",
            "|      Cathay Pacific|  17121.325581395347|\n",
            "|          Aeromexico|   5463.822222222222|\n",
            "|      Etihad Airways|   6476.088235294118|\n",
            "| Philippine Airlines|  10248.635658914729|\n",
            "|United Airlines -...|   48915.46750232126|\n",
            "|    Turkish Airlines|   8162.416666666667|\n",
            "| Swiss International|   6061.640287769784|\n",
            "|    Independence Air|              6391.3|\n",
            "|Miami Air Interna...|             107.375|\n",
            "|          Air France|  11589.077519379845|\n",
            "|      Japan Airlines|   6470.332046332046|\n",
            "|    Midwest Airlines|              3883.0|\n",
            "|      Atlas Air, Inc|                34.0|\n",
            "|    JetBlue Airways |   35261.13963963964|\n",
            "|       China Eastern|   5498.402777777777|\n",
            "|   Mexicana Airlines|   7993.806451612903|\n",
            "|         Air Canada |  18251.560109289618|\n",
            "|       Allegiant Air|           1516.8125|\n",
            "+--------------------+--------------------+\n",
            "only showing top 20 rows\n",
            "\n"
          ]
        }
      ]
    },
    {
      "cell_type": "code",
      "source": [
        "top5_compañias = df_compañia.orderBy (F.desc('mean_passenger_count')).limit(5)\n",
        "top5_compañias.show()\n",
        "\n",
        "low5_compañias = df_compañia.orderBy (F.asc('mean_passenger_count')).limit(5)\n",
        "low5_compañias.show()"
      ],
      "metadata": {
        "colab": {
          "base_uri": "https://localhost:8080/"
        },
        "id": "PoW144tg4IHD",
        "outputId": "6c5e37f5-acc3-402f-b4c4-6763796ba47d"
      },
      "execution_count": null,
      "outputs": [
        {
          "output_type": "stream",
          "name": "stdout",
          "text": [
            "+------------------+--------------------+\n",
            "| Operating Airline|mean_passenger_count|\n",
            "+------------------+--------------------+\n",
            "| American Airlines|  127164.38970588235|\n",
            "|Southwest Airlines|   81188.15857605178|\n",
            "|    Virgin America|   74405.35359116022|\n",
            "|   United Airlines|   72732.05829596413|\n",
            "|   Delta Air Lines|   68498.49740932643|\n",
            "+------------------+--------------------+\n",
            "\n",
            "+--------------------+--------------------+\n",
            "|   Operating Airline|mean_passenger_count|\n",
            "+--------------------+--------------------+\n",
            "|Evergreen Interna...|                 2.0|\n",
            "|         Ameriflight|                 5.0|\n",
            "|      Boeing Company|                18.0|\n",
            "|      Atlas Air, Inc|                34.0|\n",
            "|        Xtra Airways|                73.0|\n",
            "+--------------------+--------------------+\n",
            "\n"
          ]
        }
      ]
    },
    {
      "cell_type": "code",
      "source": [
        "# Visualizamos con collect para poder mostrar la media de las 77 compañias, ya que con .show() es más visual pero solo muestra 20 filas.\n",
        "resultados = df_compañia.collect()\n",
        "\n",
        "# Mostrar los resultados\n",
        "for fila in resultados:\n",
        "    print(fila)"
      ],
      "metadata": {
        "colab": {
          "base_uri": "https://localhost:8080/"
        },
        "id": "NC9zrrgHj7co",
        "outputId": "34998002-3749-4912-cc48-a1409267d934",
        "collapsed": true
      },
      "execution_count": null,
      "outputs": [
        {
          "output_type": "stream",
          "name": "stdout",
          "text": [
            "Row(Operating Airline='Icelandair', mean_passenger_count=2799.7)\n",
            "Row(Operating Airline='Ameriflight', mean_passenger_count=5.0)\n",
            "Row(Operating Airline='Cathay Pacific', mean_passenger_count=17121.325581395347)\n",
            "Row(Operating Airline='Aeromexico', mean_passenger_count=5463.822222222222)\n",
            "Row(Operating Airline='Etihad Airways', mean_passenger_count=6476.088235294118)\n",
            "Row(Operating Airline='Philippine Airlines', mean_passenger_count=10248.635658914729)\n",
            "Row(Operating Airline='United Airlines - Pre 07/01/2013', mean_passenger_count=48915.46750232126)\n",
            "Row(Operating Airline='Turkish Airlines', mean_passenger_count=8162.416666666667)\n",
            "Row(Operating Airline='Swiss International', mean_passenger_count=6061.640287769784)\n",
            "Row(Operating Airline='Independence Air', mean_passenger_count=6391.3)\n",
            "Row(Operating Airline='Miami Air International', mean_passenger_count=107.375)\n",
            "Row(Operating Airline='Air France', mean_passenger_count=11589.077519379845)\n",
            "Row(Operating Airline='Japan Airlines', mean_passenger_count=6470.332046332046)\n",
            "Row(Operating Airline='Midwest Airlines', mean_passenger_count=3883.0)\n",
            "Row(Operating Airline='Atlas Air, Inc', mean_passenger_count=34.0)\n",
            "Row(Operating Airline='JetBlue Airways ', mean_passenger_count=35261.13963963964)\n",
            "Row(Operating Airline='China Eastern', mean_passenger_count=5498.402777777777)\n",
            "Row(Operating Airline='Mexicana Airlines', mean_passenger_count=7993.806451612903)\n",
            "Row(Operating Airline='Air Canada ', mean_passenger_count=18251.560109289618)\n",
            "Row(Operating Airline='Allegiant Air', mean_passenger_count=1516.8125)\n",
            "Row(Operating Airline='Northwest Airlines', mean_passenger_count=26109.25)\n",
            "Row(Operating Airline='Sun Country Airlines', mean_passenger_count=3992.652)\n",
            "Row(Operating Airline='Evergreen International Airlines', mean_passenger_count=2.0)\n",
            "Row(Operating Airline='Horizon Air ', mean_passenger_count=5577.583333333333)\n",
            "Row(Operating Airline='United Airlines', mean_passenger_count=72732.05829596413)\n",
            "Row(Operating Airline='World Airways', mean_passenger_count=261.6666666666667)\n",
            "Row(Operating Airline='Virgin America', mean_passenger_count=74405.35359116022)\n",
            "Row(Operating Airline='Jet Airways', mean_passenger_count=4280.3125)\n",
            "Row(Operating Airline='British Airways', mean_passenger_count=17625.124031007752)\n",
            "Row(Operating Airline='Swissport USA', mean_passenger_count=258.6)\n",
            "Row(Operating Airline='Servisair', mean_passenger_count=90.05555555555556)\n",
            "Row(Operating Airline='Hawaiian Airlines', mean_passenger_count=8282.186046511628)\n",
            "Row(Operating Airline='Virgin Atlantic', mean_passenger_count=9847.10465116279)\n",
            "Row(Operating Airline='SAS Airlines', mean_passenger_count=5865.847222222223)\n",
            "Row(Operating Airline='TACA', mean_passenger_count=5066.197674418605)\n",
            "Row(Operating Airline='KLM Royal Dutch Airlines', mean_passenger_count=9221.813953488372)\n",
            "Row(Operating Airline='Boeing Company', mean_passenger_count=18.0)\n",
            "Row(Operating Airline='ExpressJet Airlines', mean_passenger_count=5631.84375)\n",
            "Row(Operating Airline='Compass Airlines', mean_passenger_count=23358.55681818182)\n",
            "Row(Operating Airline='Lufthansa German Airlines', mean_passenger_count=19301.96511627907)\n",
            "Row(Operating Airline='SkyWest Airlines', mean_passenger_count=37083.83904465213)\n",
            "Row(Operating Airline='Asiana Airlines', mean_passenger_count=5902.961240310077)\n",
            "Row(Operating Airline='China Airlines', mean_passenger_count=9857.51550387597)\n",
            "Row(Operating Airline='Frontier Airlines', mean_passenger_count=17787.676923076924)\n",
            "Row(Operating Airline='American Airlines', mean_passenger_count=127164.38970588235)\n",
            "Row(Operating Airline='Air China', mean_passenger_count=6618.335907335907)\n",
            "Row(Operating Airline='Air Berlin', mean_passenger_count=2320.75)\n",
            "Row(Operating Airline='Delta Air Lines', mean_passenger_count=68498.49740932643)\n",
            "Row(Operating Airline='Korean Air Lines', mean_passenger_count=5678.461240310077)\n",
            "Row(Operating Airline='AirTran Airways', mean_passenger_count=10569.238938053097)\n",
            "Row(Operating Airline='All Nippon Airways', mean_passenger_count=6385.523255813953)\n",
            "Row(Operating Airline='Singapore Airlines', mean_passenger_count=14746.647286821706)\n",
            "Row(Operating Airline='China Southern', mean_passenger_count=4321.4375)\n",
            "Row(Operating Airline='US Airways', mean_passenger_count=55317.81578947369)\n",
            "Row(Operating Airline='Air Canada Jazz', mean_passenger_count=294.2142857142857)\n",
            "Row(Operating Airline='Emirates ', mean_passenger_count=9070.866666666667)\n",
            "Row(Operating Airline='Pacific Aviation', mean_passenger_count=160.0)\n",
            "Row(Operating Airline='Air India Limited', mean_passenger_count=2834.5)\n",
            "Row(Operating Airline='Atlantic Southeast Airlines', mean_passenger_count=2176.909090909091)\n",
            "Row(Operating Airline='American Eagle Airlines', mean_passenger_count=4006.5283018867926)\n",
            "Row(Operating Airline='Qantas Airways', mean_passenger_count=4991.2164179104475)\n",
            "Row(Operating Airline='COPA Airlines, Inc.', mean_passenger_count=3418.0714285714284)\n",
            "Row(Operating Airline='Alaska Airlines', mean_passenger_count=17251.637816245006)\n",
            "Row(Operating Airline='Xtra Airways', mean_passenger_count=73.0)\n",
            "Row(Operating Airline='Republic Airlines', mean_passenger_count=2452.5)\n",
            "Row(Operating Airline='Mesaba Airlines', mean_passenger_count=2864.7272727272725)\n",
            "Row(Operating Airline='Air New Zealand', mean_passenger_count=7452.339768339768)\n",
            "Row(Operating Airline='Spirit Airlines', mean_passenger_count=2921.0416666666665)\n",
            "Row(Operating Airline='ATA Airlines', mean_passenger_count=8744.636363636364)\n",
            "Row(Operating Airline='BelAir Airlines', mean_passenger_count=415.3636363636364)\n",
            "Row(Operating Airline='Aer Lingus', mean_passenger_count=4407.183673469388)\n",
            "Row(Operating Airline='WestJet Airlines', mean_passenger_count=5338.155339805825)\n",
            "Row(Operating Airline='Mesa Airlines', mean_passenger_count=3710.5811965811968)\n",
            "Row(Operating Airline='LAN Peru', mean_passenger_count=2786.011111111111)\n",
            "Row(Operating Airline='Southwest Airlines', mean_passenger_count=81188.15857605178)\n",
            "Row(Operating Airline='XL Airways France', mean_passenger_count=2223.1612903225805)\n",
            "Row(Operating Airline='EVA Airways', mean_passenger_count=13116.356589147286)\n"
          ]
        }
      ]
    },
    {
      "cell_type": "markdown",
      "source": [
        "Eliminaremos los registros duplicados por el campo “GEO Región”, manteniendo\n",
        "únicamente aquel con mayor número de pasajeros."
      ],
      "metadata": {
        "id": "1g1mx87ZjkL2"
      }
    },
    {
      "cell_type": "code",
      "source": [
        "max_passengers = df.groupBy(\"GEO Region\").agg(F.max(\"Passenger Count\").alias(\"max_passenger_count\"))\n",
        "max_passengers.show()"
      ],
      "metadata": {
        "id": "hHCwJrt1kqXU",
        "colab": {
          "base_uri": "https://localhost:8080/"
        },
        "outputId": "cb30a2de-386b-4635-a096-6b6ee5a81054"
      },
      "execution_count": null,
      "outputs": [
        {
          "output_type": "stream",
          "name": "stdout",
          "text": [
            "+-------------------+-------------------+\n",
            "|         GEO Region|max_passenger_count|\n",
            "+-------------------+-------------------+\n",
            "|             Europe|              48136|\n",
            "|    Central America|               8970|\n",
            "|                 US|             659837|\n",
            "|      South America|               3685|\n",
            "|             Mexico|              29206|\n",
            "|        Middle East|              14769|\n",
            "|             Canada|              39798|\n",
            "|Australia / Oceania|              12973|\n",
            "|               Asia|              86398|\n",
            "+-------------------+-------------------+\n",
            "\n"
          ]
        }
      ]
    },
    {
      "cell_type": "markdown",
      "source": [
        "Volcaremos los resultados de los dos puntos anteriores a un CSV."
      ],
      "metadata": {
        "id": "VgUxykdzjmb3"
      }
    },
    {
      "cell_type": "code",
      "source": [
        "df_compañia.coalesce(1).write \\\n",
        "  .mode(\"overwrite\") \\\n",
        "  .format(\"csv\") \\\n",
        "  .option(\"header\", \"true\") \\\n",
        "  .save(\"/content/drive/MyDrive/TokioSchool/data/\")\n"
      ],
      "metadata": {
        "id": "9kXIIo59Um0W"
      },
      "execution_count": null,
      "outputs": []
    },
    {
      "cell_type": "code",
      "source": [
        "max_passengers.coalesce(1).write \\\n",
        "  .mode(\"overwrite\") \\\n",
        "  .format(\"csv\") \\\n",
        "  .option(\"header\", \"true\") \\\n",
        "  .save(\"/content/drive/MyDrive/TokioSchool/data_1/\")\n",
        "\n",
        "spark.stop()"
      ],
      "metadata": {
        "id": "tGa0xpCMUnci"
      },
      "execution_count": null,
      "outputs": []
    }
  ]
}